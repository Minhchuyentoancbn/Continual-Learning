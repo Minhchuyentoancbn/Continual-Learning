{
 "cells": [
  {
   "cell_type": "code",
   "execution_count": 1,
   "metadata": {},
   "outputs": [
    {
     "name": "stderr",
     "output_type": "stream",
     "text": [
      "f:\\anacoda3\\envs\\cl\\lib\\site-packages\\torchvision\\models\\_utils.py:208: UserWarning: The parameter 'pretrained' is deprecated since 0.13 and may be removed in the future, please use 'weights' instead.\n",
      "  warnings.warn(\n",
      "f:\\anacoda3\\envs\\cl\\lib\\site-packages\\torchvision\\models\\_utils.py:223: UserWarning: Arguments other than a weight enum or `None` for 'weights' are deprecated since 0.13 and may be removed in the future. The current behavior is equivalent to passing `weights=ResNet18_Weights.IMAGENET1K_V1`. You can also use `weights=ResNet18_Weights.DEFAULT` to get the most up-to-date weights.\n",
      "  warnings.warn(msg)\n"
     ]
    }
   ],
   "source": [
    "import numpy as np\n",
    "import matplotlib.pyplot as plt\n",
    "import time\n",
    "import random\n",
    "\n",
    "import torch\n",
    "import torch.nn as nn\n",
    "\n",
    "from utils import *\n",
    "from dataloaders import split_cifar100\n",
    "from approaches import ewc, si, ucl\n",
    "from networks import conv_net, conv_net_ucl\n",
    "\n",
    "def seed_everything(seed: int):\n",
    "    random.seed(seed)\n",
    "    os.environ['PYTHONHASHSEED'] = str(seed)\n",
    "    np.random.seed(seed)\n",
    "    torch.manual_seed(seed)\n",
    "    torch.cuda.manual_seed(seed)\n",
    "    torch.backends.cudnn.deterministic = True\n",
    "    \n",
    "seed_everything(42)"
   ]
  },
  {
   "cell_type": "code",
   "execution_count": 2,
   "metadata": {},
   "outputs": [
    {
     "name": "stdout",
     "output_type": "stream",
     "text": [
      "Load data...\n",
      "Task order = [3, 9, 5, 10, 2, 7, 8, 4, 1, 6]\n",
      "Input size = [3, 32, 32] \n",
      "Task info = [(0, 10), (1, 10), (2, 10), (3, 10), (4, 10), (5, 10), (6, 10), (7, 10), (8, 10), (9, 10)]\n"
     ]
    }
   ],
   "source": [
    "split = True\n",
    "notMNIST = False\n",
    "\n",
    "# Load data\n",
    "print('Load data...')\n",
    "data, taskcla, inputsize = split_cifar100.get()\n",
    "print('Input size =', inputsize, '\\nTask info =', taskcla)"
   ]
  },
  {
   "attachments": {},
   "cell_type": "markdown",
   "metadata": {},
   "source": [
    "## 1. UCL"
   ]
  },
  {
   "cell_type": "code",
   "execution_count": 3,
   "metadata": {},
   "outputs": [],
   "source": [
    "ucl_args = {\n",
    "    'experiment': 'split_cifar100',\n",
    "    'approach': 'ucl',\n",
    "    'beta': 0.002,  # See the paper for more details\n",
    "    'ratio': 0.125,\n",
    "    'alpha': 0.01, # Initialized alpha, when a model is saved then alpha is set to 1,\n",
    "    'seed': 42,\n",
    "    'lr': 1e-3,\n",
    "    'units': 400,\n",
    "    'batch_size': 256,\n",
    "    'epochs': 100,\n",
    "    'optimizer': 'adam',\n",
    "    'tasknum': 10,\n",
    "    'parameter': '',\n",
    "    'conv_net': True\n",
    "}\n",
    "\n",
    "log_name = '{}_{}_{}_alpha_{}_beta_{:.5f}_ratio_{:.4f}_lr_{}_units_{}_batch_{}_epoch_{}'.format(\n",
    "        ucl_args['experiment'], ucl_args['approach'], ucl_args['seed'], ucl_args['alpha'], ucl_args['beta'], ucl_args['ratio'], \n",
    "        ucl_args['lr'], ucl_args['units'], ucl_args['batch_size'], ucl_args['epochs'])\n",
    "\n",
    "ucl_args['output'] = './result_data/' + log_name + '.txt'"
   ]
  },
  {
   "cell_type": "code",
   "execution_count": null,
   "metadata": {},
   "outputs": [],
   "source": [
    "torch.set_default_tensor_type('torch.cuda.FloatTensor')\n",
    "\n",
    "net = conv_net_ucl.Net(inputsize, taskcla, ucl_args['ratio']).cuda()\n",
    "approach = ucl.Approach(net, \n",
    "                        ucl_args['epochs'],\n",
    "                        ucl_args['batch_size'],\n",
    "                        ucl_args['lr'],\n",
    "                        args=ucl_args,\n",
    "                        log_name=log_name,\n",
    "                        split=split)\n",
    "\n",
    "print_model_report(net)\n",
    "print_optimizer_config(approach.optimizer)"
   ]
  },
  {
   "cell_type": "code",
   "execution_count": null,
   "metadata": {},
   "outputs": [],
   "source": [
    "acc = np.zeros((len(taskcla), len(taskcla)), dtype=np.float32)\n",
    "loss = np.zeros((len(taskcla), len(taskcla)), dtype=np.float32)\n",
    "\n",
    "for t, ncla in taskcla:\n",
    "    if t == ucl_args['tasknum']:\n",
    "        break\n",
    "\n",
    "    print('*' * 100)\n",
    "    print('Task {:2d} ({:s})'.format(t, data[t]['name']))\n",
    "    print('*' * 100)\n",
    "\n",
    "    # Load data\n",
    "    X_train = data[t]['train']['X'].cuda()\n",
    "    y_train = data[t]['train']['y'].cuda()\n",
    "    X_valid = data[t]['valid']['X'].cuda()\n",
    "    y_valid = data[t]['valid']['y'].cuda()\n",
    "    task = t\n",
    "\n",
    "    # Train\n",
    "    approach.train(task, X_train, y_train, X_valid, y_valid, data)\n",
    "    print('-' * 100)\n",
    "\n",
    "    # Test\n",
    "    for u in range(t + 1):\n",
    "        X_test = data[u]['test']['X'].cuda()\n",
    "        y_test = data[u]['test']['y'].cuda()\n",
    "        test_loss, test_acc = approach.eval(u, X_test, y_test)\n",
    "        print('>>> Test on task {:2d} - {:15s}: loss={:.3f}, acc={:5.1f}% <<<'.format(u, data[u]['name'], test_loss,\n",
    "                                                                                      100 * test_acc))\n",
    "        acc[t, u] = test_acc\n",
    "        loss[t, u] = test_loss\n",
    "\n",
    "    # Save\n",
    "    print('Save at ' + ucl_args['output'])\n",
    "    np.savetxt(ucl_args['output'], acc, fmt='%.4f')\n",
    "    torch.save(net.state_dict(), './models/trained_model/'+ log_name + '_task_{}.pt'.format(t))\n",
    "\n",
    "# Done\n",
    "print('*' * 100)\n",
    "print('Accuracies =')\n",
    "for i in range(acc.shape[0]):\n",
    "    print('\\t', end='')\n",
    "    for j in range(acc.shape[1]):\n",
    "        print('{:5.1f}% '.format(100 * acc[i, j]), end='')\n",
    "    print()\n",
    "print('*' * 100)\n",
    "print('Done!')\n",
    "\n"
   ]
  },
  {
   "attachments": {},
   "cell_type": "markdown",
   "metadata": {},
   "source": [
    "## 2. EWC"
   ]
  },
  {
   "cell_type": "code",
   "execution_count": 6,
   "metadata": {},
   "outputs": [],
   "source": [
    "ewc_args = {\n",
    "    'experiment': 'split_cifar100',\n",
    "    'approach': 'ewc',\n",
    "    'lamb':   10000,\n",
    "    'seed': 42,\n",
    "    'lr': 1e-3,\n",
    "    'units': 400,\n",
    "    'batch_size': 256,\n",
    "    'epochs': 100,\n",
    "    'optimizer': 'adam',\n",
    "    'tasknum': 10,\n",
    "    'parameter': '',\n",
    "    'conv_net': True\n",
    "}\n",
    "\n",
    "log_name = '{}_{}_{}_lamb_{}_lr_{}_units_{}_batch_{}_epoch_{}'.format(\n",
    "        ewc_args['experiment'], ewc_args['approach'], ewc_args['seed'], ewc_args['lamb'],\n",
    "        ewc_args['lr'], ewc_args['units'], ewc_args['batch_size'], ewc_args['epochs'])\n",
    "\n",
    "ewc_args['output'] = './result_data/' + log_name + '.txt'"
   ]
  },
  {
   "cell_type": "code",
   "execution_count": 11,
   "metadata": {},
   "outputs": [
    {
     "name": "stdout",
     "output_type": "stream",
     "text": [
      "----------------------------------------------------------------------------------------------------\n",
      "Net(\n",
      "  (conv1): Conv2d(3, 32, kernel_size=(3, 3), stride=(1, 1), padding=(1, 1))\n",
      "  (conv2): Conv2d(32, 32, kernel_size=(3, 3), stride=(1, 1), padding=(1, 1))\n",
      "  (conv3): Conv2d(32, 64, kernel_size=(3, 3), stride=(1, 1), padding=(1, 1))\n",
      "  (conv4): Conv2d(64, 64, kernel_size=(3, 3), stride=(1, 1), padding=(1, 1))\n",
      "  (conv5): Conv2d(64, 128, kernel_size=(3, 3), stride=(1, 1), padding=(1, 1))\n",
      "  (conv6): Conv2d(128, 128, kernel_size=(3, 3), stride=(1, 1), padding=(1, 1))\n",
      "  (fc1): Linear(in_features=2048, out_features=256, bias=True)\n",
      "  (drop1): Dropout(p=0.25, inplace=False)\n",
      "  (drop2): Dropout(p=0.5, inplace=False)\n",
      "  (MaxPool): MaxPool2d(kernel_size=2, stride=2, padding=0, dilation=1, ceil_mode=False)\n",
      "  (last): ModuleList(\n",
      "    (0-9): 10 x Linear(in_features=256, out_features=10, bias=True)\n",
      "  )\n",
      "  (relu): ReLU()\n",
      ")\n",
      "Dimensions = torch.Size([32, 3, 3, 3]) torch.Size([32]) torch.Size([32, 32, 3, 3]) torch.Size([32]) torch.Size([64, 32, 3, 3]) torch.Size([64]) torch.Size([64, 64, 3, 3]) torch.Size([64]) torch.Size([128, 64, 3, 3]) torch.Size([128]) torch.Size([128, 128, 3, 3]) torch.Size([128]) torch.Size([256, 2048]) torch.Size([256]) torch.Size([10, 256]) torch.Size([10]) torch.Size([10, 256]) torch.Size([10]) torch.Size([10, 256]) torch.Size([10]) torch.Size([10, 256]) torch.Size([10]) torch.Size([10, 256]) torch.Size([10]) torch.Size([10, 256]) torch.Size([10]) torch.Size([10, 256]) torch.Size([10]) torch.Size([10, 256]) torch.Size([10]) torch.Size([10, 256]) torch.Size([10]) torch.Size([10, 256]) torch.Size([10]) \n",
      "Num parameters = 837.3K\n",
      "----------------------------------------------------------------------------------------------------\n",
      "Adam (\n",
      "Parameter Group 0\n",
      "    amsgrad: False\n",
      "    betas: (0.9, 0.999)\n",
      "    capturable: False\n",
      "    differentiable: False\n",
      "    eps: 1e-08\n",
      "    foreach: None\n",
      "    fused: None\n",
      "    lr: 0.001\n",
      "    maximize: False\n",
      "    weight_decay: 0\n",
      ") = lr: 0.001, betas: (0.9, 0.999), eps: 1e-08, weight_decay: 0, amsgrad: False, maximize: False, foreach: None, capturable: False, differentiable: False, fused: None, \n"
     ]
    }
   ],
   "source": [
    "torch.set_default_tensor_type('torch.cuda.FloatTensor')\n",
    "\n",
    "net = conv_net.Net(inputsize, taskcla).cuda()\n",
    "approach = ewc.Approach(net, \n",
    "                        ewc_args['epochs'],\n",
    "                        ewc_args['batch_size'],\n",
    "                        ewc_args['lr'],\n",
    "                        args=ewc_args,\n",
    "                        log_name=log_name,\n",
    "                        split=split)\n",
    "\n",
    "print_model_report(net)\n",
    "print_optimizer_config(approach.optimizer)"
   ]
  },
  {
   "cell_type": "code",
   "execution_count": null,
   "metadata": {},
   "outputs": [],
   "source": [
    "acc = np.zeros((len(taskcla), len(taskcla)), dtype=np.float32)\n",
    "loss = np.zeros((len(taskcla), len(taskcla)), dtype=np.float32)\n",
    "\n",
    "for t, ncla in taskcla:\n",
    "    if t == ewc_args['tasknum']:\n",
    "        break\n",
    "\n",
    "    print('*' * 100)\n",
    "    print('Task {:2d} ({:s})'.format(t, data[t]['name']))\n",
    "    print('*' * 100)\n",
    "\n",
    "    # Load data\n",
    "    X_train = data[t]['train']['X'].cuda()\n",
    "    y_train = data[t]['train']['y'].cuda()\n",
    "    X_valid = data[t]['valid']['X'].cuda()\n",
    "    y_valid = data[t]['valid']['y'].cuda()\n",
    "    task = t\n",
    "\n",
    "    # Train\n",
    "    approach.train(task, X_train, y_train, X_valid, y_valid, data)\n",
    "    print('-' * 100)\n",
    "\n",
    "    # Test\n",
    "    for u in range(t + 1):\n",
    "        X_test = data[u]['test']['X'].cuda()\n",
    "        y_test = data[u]['test']['y'].cuda()\n",
    "        test_loss, test_acc = approach.eval(u, X_test, y_test)\n",
    "        print('>>> Test on task {:2d} - {:15s}: loss={:.3f}, acc={:5.1f}% <<<'.format(u, data[u]['name'], test_loss,\n",
    "                                                                                      100 * test_acc))\n",
    "        acc[t, u] = test_acc\n",
    "        loss[t, u] = test_loss\n",
    "\n",
    "    # Save\n",
    "    print('Save at ' + ewc_args['output'])\n",
    "    np.savetxt(ewc_args['output'], acc, fmt='%.4f')\n",
    "    torch.save(net.state_dict(), './models/trained_model/'+ log_name + '_task_{}.pt'.format(t))\n",
    "\n",
    "# Done\n",
    "print('*' * 100)\n",
    "print('Accuracies =')\n",
    "for i in range(acc.shape[0]):\n",
    "    print('\\t', end='')\n",
    "    for j in range(acc.shape[1]):\n",
    "        print('{:5.1f}% '.format(100 * acc[i, j]), end='')\n",
    "    print()\n",
    "print('*' * 100)\n",
    "print('Done!')\n",
    "\n"
   ]
  },
  {
   "attachments": {},
   "cell_type": "markdown",
   "metadata": {},
   "source": [
    "## 3. SI"
   ]
  },
  {
   "cell_type": "code",
   "execution_count": 13,
   "metadata": {},
   "outputs": [],
   "source": [
    "si_args = {\n",
    "    'experiment': 'split_cifar100',\n",
    "    'approach': 'si',\n",
    "    'c': 1.0,\n",
    "    'seed': 42,\n",
    "    'lr': 1e-3,\n",
    "    'units': 400,\n",
    "    'batch_size': 256,\n",
    "    'epochs': 100,\n",
    "    'optimizer': 'adam',\n",
    "    'tasknum': 10,\n",
    "    'parameter': '',\n",
    "    'conv_net': True\n",
    "}\n",
    "\n",
    "log_name = '{}_{}_{}_c_{}_lr_{}_units_{}_batch_{}_epoch_{}'.format(\n",
    "        si_args['experiment'], si_args['approach'], si_args['seed'], si_args['c'],\n",
    "        si_args['lr'], si_args['units'], si_args['batch_size'], si_args['epochs'])\n",
    "\n",
    "si_args['output'] = './result_data/' + log_name + '.txt'"
   ]
  },
  {
   "cell_type": "code",
   "execution_count": 14,
   "metadata": {},
   "outputs": [
    {
     "name": "stdout",
     "output_type": "stream",
     "text": [
      "----------------------------------------------------------------------------------------------------\n",
      "Net(\n",
      "  (conv1): Conv2d(3, 32, kernel_size=(3, 3), stride=(1, 1), padding=(1, 1))\n",
      "  (conv2): Conv2d(32, 32, kernel_size=(3, 3), stride=(1, 1), padding=(1, 1))\n",
      "  (conv3): Conv2d(32, 64, kernel_size=(3, 3), stride=(1, 1), padding=(1, 1))\n",
      "  (conv4): Conv2d(64, 64, kernel_size=(3, 3), stride=(1, 1), padding=(1, 1))\n",
      "  (conv5): Conv2d(64, 128, kernel_size=(3, 3), stride=(1, 1), padding=(1, 1))\n",
      "  (conv6): Conv2d(128, 128, kernel_size=(3, 3), stride=(1, 1), padding=(1, 1))\n",
      "  (fc1): Linear(in_features=2048, out_features=256, bias=True)\n",
      "  (drop1): Dropout(p=0.25, inplace=False)\n",
      "  (drop2): Dropout(p=0.5, inplace=False)\n",
      "  (MaxPool): MaxPool2d(kernel_size=2, stride=2, padding=0, dilation=1, ceil_mode=False)\n",
      "  (last): ModuleList(\n",
      "    (0-9): 10 x Linear(in_features=256, out_features=10, bias=True)\n",
      "  )\n",
      "  (relu): ReLU()\n",
      ")\n",
      "Dimensions = torch.Size([32, 3, 3, 3]) torch.Size([32]) torch.Size([32, 32, 3, 3]) torch.Size([32]) torch.Size([64, 32, 3, 3]) torch.Size([64]) torch.Size([64, 64, 3, 3]) torch.Size([64]) torch.Size([128, 64, 3, 3]) torch.Size([128]) torch.Size([128, 128, 3, 3]) torch.Size([128]) torch.Size([256, 2048]) torch.Size([256]) torch.Size([10, 256]) torch.Size([10]) torch.Size([10, 256]) torch.Size([10]) torch.Size([10, 256]) torch.Size([10]) torch.Size([10, 256]) torch.Size([10]) torch.Size([10, 256]) torch.Size([10]) torch.Size([10, 256]) torch.Size([10]) torch.Size([10, 256]) torch.Size([10]) torch.Size([10, 256]) torch.Size([10]) torch.Size([10, 256]) torch.Size([10]) torch.Size([10, 256]) torch.Size([10]) \n",
      "Num parameters = 837.3K\n",
      "----------------------------------------------------------------------------------------------------\n",
      "Adam (\n",
      "Parameter Group 0\n",
      "    amsgrad: False\n",
      "    betas: (0.9, 0.999)\n",
      "    capturable: False\n",
      "    differentiable: False\n",
      "    eps: 1e-08\n",
      "    foreach: None\n",
      "    fused: None\n",
      "    lr: 0.001\n",
      "    maximize: False\n",
      "    weight_decay: 0\n",
      ") = lr: 0.001, betas: (0.9, 0.999), eps: 1e-08, weight_decay: 0, amsgrad: False, maximize: False, foreach: None, capturable: False, differentiable: False, fused: None, \n"
     ]
    }
   ],
   "source": [
    "torch.set_default_tensor_type('torch.cuda.FloatTensor')\n",
    "\n",
    "net = conv_net.Net(inputsize, taskcla).cuda()\n",
    "approach = si.Approach(net, \n",
    "                       si_args['epochs'],\n",
    "                       si_args['batch_size'],\n",
    "                       si_args['lr'],\n",
    "                       args=si_args,\n",
    "                       log_name=log_name,\n",
    "                       split=split)\n",
    "\n",
    "print_model_report(net)\n",
    "print_optimizer_config(approach.optimizer)"
   ]
  },
  {
   "cell_type": "code",
   "execution_count": null,
   "metadata": {},
   "outputs": [],
   "source": [
    "acc = np.zeros((len(taskcla), len(taskcla)), dtype=np.float32)\n",
    "loss = np.zeros((len(taskcla), len(taskcla)), dtype=np.float32)\n",
    "\n",
    "for t, ncla in taskcla:\n",
    "    if t == si_args['tasknum']:\n",
    "        break\n",
    "\n",
    "    print('*' * 100)\n",
    "    print('Task {:2d} ({:s})'.format(t, data[t]['name']))\n",
    "    print('*' * 100)\n",
    "\n",
    "    # Load data\n",
    "    X_train = data[t]['train']['X'].cuda()\n",
    "    y_train = data[t]['train']['y'].cuda()\n",
    "    X_valid = data[t]['valid']['X'].cuda()\n",
    "    y_valid = data[t]['valid']['y'].cuda()\n",
    "    task = t\n",
    "\n",
    "    # Train\n",
    "    approach.train(task, X_train, y_train, X_valid, y_valid, data)\n",
    "    print('-' * 100)\n",
    "\n",
    "    # Test\n",
    "    for u in range(t + 1):\n",
    "        X_test = data[u]['test']['X'].cuda()\n",
    "        y_test = data[u]['test']['y'].cuda()\n",
    "        test_loss, test_acc = approach.eval(u, X_test, y_test)\n",
    "        print('>>> Test on task {:2d} - {:15s}: loss={:.3f}, acc={:5.1f}% <<<'.format(u, data[u]['name'], test_loss,\n",
    "                                                                                      100 * test_acc))\n",
    "        acc[t, u] = test_acc\n",
    "        loss[t, u] = test_loss\n",
    "\n",
    "    # Save\n",
    "    print('Save at ' + si_args['output'])\n",
    "    np.savetxt(si_args['output'], acc, fmt='%.4f')\n",
    "    torch.save(net.state_dict(), './models/trained_model/'+ log_name + '_task_{}.pt'.format(t))\n",
    "\n",
    "# Done\n",
    "print('*' * 100)\n",
    "print('Accuracies =')\n",
    "for i in range(acc.shape[0]):\n",
    "    print('\\t', end='')\n",
    "    for j in range(acc.shape[1]):\n",
    "        print('{:5.1f}% '.format(100 * acc[i, j]), end='')\n",
    "    print()\n",
    "print('*' * 100)\n",
    "print('Done!')\n",
    "\n"
   ]
  },
  {
   "attachments": {},
   "cell_type": "markdown",
   "metadata": {},
   "source": [
    "## Result"
   ]
  },
  {
   "cell_type": "code",
   "execution_count": 4,
   "metadata": {},
   "outputs": [
    {
     "data": {
      "image/png": "[encoded data removed]",
      "text/plain": [
       "<Figure size 640x480 with 1 Axes>"
      ]
     },
     "metadata": {},
     "output_type": "display_data"
    }
   ],
   "source": [
    "# Load results\n",
    "acc_ucl = np.loadtxt('./result_data/split_cifar100_ucl_42_alpha_0.01_beta_0.00200_ratio_0.1250_lr_0.001_units_400_batch_256_epoch_100.txt')\n",
    "acc_ewc = np.loadtxt('./result_data/split_cifar100_ewc_42_lamb_10000_lr_0.001_units_400_batch_256_epoch_100.txt')\n",
    "acc_si = np.loadtxt('./result_data/split_cifar100_si_42_c_1.0_lr_0.001_units_400_batch_256_epoch_100.txt')\n",
    "\n",
    "tasks = np.arange(1, 11)\n",
    "\n",
    "plt.plot(tasks, acc_ucl.sum(axis=1) / tasks, '-o', label='UCL', lw=1, markersize=4)\n",
    "plt.plot(tasks, acc_ewc.sum(axis=1) / tasks, '-o', label='EWC', lw=1, markersize=4)\n",
    "plt.plot(tasks, acc_si.sum(axis=1) / tasks, '-o', label='SI', lw=1, markersize=4)\n",
    "\n",
    "plt.title('Split CIFAR-100')\n",
    "plt.xlabel('Task')\n",
    "plt.ylabel('Accuracy')\n",
    "plt.xticks(tasks)\n",
    "plt.ylim(0.50, 0.75)\n",
    "plt.legend()\n",
    "plt.show()"
   ]
  },
  {
   "attachments": {},
   "cell_type": "markdown",
   "metadata": {},
   "source": [
    "__Note__\n",
    "- The main difference here is that I use optimizer from pytorch. In the paper they re-implement the optimizer from scratch with addtional rho parameters that makes the optimizer more stable. I will try to implement it later."
   ]
  },
  {
   "cell_type": "code",
   "execution_count": null,
   "metadata": {},
   "outputs": [],
   "source": []
  }
 ],
 "metadata": {
  "kernelspec": {
   "display_name": "cl",
   "language": "python",
   "name": "python3"
  },
  "language_info": {
   "codemirror_mode": {
    "name": "ipython",
    "version": 3
   },
   "file_extension": ".py",
   "mimetype": "text/x-python",
   "name": "python",
   "nbconvert_exporter": "python",
   "pygments_lexer": "ipython3",
   "version": "3.10.10"
  },
  "orig_nbformat": 4
 },
 "nbformat": 4,
 "nbformat_minor": 2
}
